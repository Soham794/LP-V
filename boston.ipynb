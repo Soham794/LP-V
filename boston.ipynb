{
  "nbformat": 4,
  "nbformat_minor": 0,
  "metadata": {
    "colab": {
      "provenance": []
    },
    "kernelspec": {
      "name": "python3",
      "display_name": "Python 3"
    },
    "language_info": {
      "name": "python"
    }
  },
  "cells": [
    {
      "cell_type": "code",
      "execution_count": 10,
      "metadata": {
        "id": "XwAtutTdnVQp"
      },
      "outputs": [],
      "source": [
        "import numpy as np\n",
        "import tensorflow as tf\n",
        "from tensorflow import keras\n",
        "from tensorflow.keras import Sequential\n",
        "from tensorflow.keras.layers import Dense, Flatten\n",
        "from sklearn import preprocessing"
      ]
    },
    {
      "cell_type": "code",
      "source": [
        "(X_train, Y_train), (X_test, Y_test) = keras.datasets.boston_housing.load_data()"
      ],
      "metadata": {
        "id": "t8ldvAWaso2i"
      },
      "execution_count": 10,
      "outputs": []
    },
    {
      "cell_type": "code",
      "source": [
        "print(\"Training data shape:\", X_train.shape)\n",
        "print(\"Test data shape:\", X_test.shape)\n",
        "print(\"Train output data shape:\", Y_train.shape)\n",
        "print(\"Actual Test output data shape:\", Y_test.shape)"
      ],
      "metadata": {
        "id": "OPws_k1gsqX-"
      },
      "execution_count": 10,
      "outputs": []
    },
    {
      "cell_type": "code",
      "source": [
        "X_train=preprocessing.normalize(X_train)\n",
        "X_test=preprocessing.normalize(X_test)"
      ],
      "metadata": {
        "id": "2ciK4c_EstT7"
      },
      "execution_count": 10,
      "outputs": []
    },
    {
      "cell_type": "code",
      "source": [
        "X_train[0].shape"
      ],
      "metadata": {
        "id": "mPdQyDfNsv--"
      },
      "execution_count": 10,
      "outputs": []
    },
    {
      "cell_type": "code",
      "source": [
        "model = Sequential()\n",
        "model.add(Dense(128,activation='relu',input_shape= X_train[0].shape))\n",
        "model.add(Dense(64,activation='relu'))\n",
        "model.add(Dense(32,activation='relu'))\n",
        "model.add(Dense(1))"
      ],
      "metadata": {
        "id": "s4vHERfvsxx6"
      },
      "execution_count": 10,
      "outputs": []
    },
    {
      "cell_type": "code",
      "source": [
        "model.summary()"
      ],
      "metadata": {
        "id": "UfyG0o3mszeE"
      },
      "execution_count": 10,
      "outputs": []
    },
    {
      "cell_type": "code",
      "source": [
        "model.compile(loss='mse',optimizer='rmsprop',metrics=['mae'])"
      ],
      "metadata": {
        "id": "nFkz1rHKs1zL"
      },
      "execution_count": 10,
      "outputs": []
    },
    {
      "cell_type": "code",
      "source": [
        "history = model.fit(X_train,Y_train,epochs=100,batch_size=1,verbose=1,validation_data=(X_test,Y_test))"
      ],
      "metadata": {
        "id": "BZBnAjeRs4mD"
      },
      "execution_count": 10,
      "outputs": []
    },
    {
      "cell_type": "code",
      "source": [
        "results = model.evaluate(X_test, Y_test)"
      ],
      "metadata": {
        "id": "gFgdn9_6s7Ki"
      },
      "execution_count": 10,
      "outputs": []
    },
    {
      "cell_type": "code",
      "source": [
        "print(results)"
      ],
      "metadata": {
        "id": "7oJZ3X0Us8iQ"
      },
      "execution_count": 10,
      "outputs": []
    }
  ]
}