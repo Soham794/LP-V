{
  "cells": [
    {
      "cell_type": "code",
      "execution_count": null,
      "id": "f938e35a",
      "metadata": {
        "id": "f938e35a"
      },
      "outputs": [],
      "source": [
        "import numpy as np\n",
        "import pandas as pd"
      ]
    },
    {
      "cell_type": "code",
      "execution_count": 6,
      "id": "ceaf9cef",
      "metadata": {
        "id": "ceaf9cef"
      },
      "outputs": [],
      "source": [
        "from keras.datasets import imdb\n",
        "(X_train, y_train), (X_test, y_test) = imdb.load_data(num_words=10000)\n",
        "data = np.concatenate((X_train, X_test), axis=0)\n",
        "label = np.concatenate((y_train, y_test), axis=0)"
      ]
    },
    {
      "cell_type": "code",
      "execution_count": null,
      "id": "b275d617",
      "metadata": {
        "id": "b275d617"
      },
      "outputs": [],
      "source": [
        "print(\"Review is \",X_train[5])\n",
        "print(\"Review is \",y_train[5])"
      ]
    },
    {
      "cell_type": "code",
      "execution_count": 6,
      "id": "b7e2c7c9",
      "metadata": {
        "id": "b7e2c7c9"
      },
      "outputs": [],
      "source": [
        "vocab=imdb.get_word_index()\n",
        "print(vocab)"
      ]
    },
    {
      "cell_type": "code",
      "execution_count": null,
      "id": "c29e18cd",
      "metadata": {
        "id": "c29e18cd"
      },
      "outputs": [],
      "source": [
        "data"
      ]
    },
    {
      "cell_type": "code",
      "execution_count": 1,
      "id": "864a9aa3",
      "metadata": {
        "id": "864a9aa3"
      },
      "outputs": [],
      "source": [
        "label"
      ]
    },
    {
      "cell_type": "code",
      "execution_count": 1,
      "id": "96dc2ba4",
      "metadata": {
        "id": "96dc2ba4"
      },
      "outputs": [],
      "source": [
        "X_train.shape"
      ]
    },
    {
      "cell_type": "code",
      "execution_count": 1,
      "id": "8c697618",
      "metadata": {
        "id": "8c697618"
      },
      "outputs": [],
      "source": [
        "X_test.shape"
      ]
    },
    {
      "cell_type": "code",
      "execution_count": 1,
      "id": "23d5927f",
      "metadata": {
        "id": "23d5927f"
      },
      "outputs": [],
      "source": [
        "y_train"
      ]
    },
    {
      "cell_type": "code",
      "execution_count": 2,
      "id": "ee10eae6",
      "metadata": {
        "id": "ee10eae6"
      },
      "outputs": [],
      "source": [
        "y_test"
      ]
    },
    {
      "cell_type": "code",
      "execution_count": 3,
      "id": "9f6b6116",
      "metadata": {
        "id": "9f6b6116"
      },
      "outputs": [],
      "source": [
        "def vectorize(sequences, dimension = 10000):\n",
        "    results = np.zeros((len(sequences), dimension))\n",
        "    for i, sequence in enumerate(sequences):\n",
        "        results[i, sequence] = 1\n",
        "    return results"
      ]
    },
    {
      "cell_type": "code",
      "execution_count": 3,
      "id": "25d1a92c",
      "metadata": {
        "id": "25d1a92c"
      },
      "outputs": [],
      "source": [
        "test_x = data[:10000]\n",
        "test_y = label[:10000]\n",
        "train_x = data[10000:]\n",
        "train_y = label[10000:]"
      ]
    },
    {
      "cell_type": "code",
      "execution_count": 3,
      "id": "f8a27149",
      "metadata": {
        "id": "f8a27149"
      },
      "outputs": [],
      "source": [
        "test_x"
      ]
    },
    {
      "cell_type": "code",
      "execution_count": 3,
      "id": "6706ad5e",
      "metadata": {
        "id": "6706ad5e"
      },
      "outputs": [],
      "source": [
        "train_x"
      ]
    },
    {
      "cell_type": "code",
      "execution_count": 3,
      "id": "b95b514e",
      "metadata": {
        "id": "b95b514e"
      },
      "outputs": [],
      "source": [
        "train_x"
      ]
    },
    {
      "cell_type": "code",
      "execution_count": 3,
      "id": "7cc50e70",
      "metadata": {
        "id": "7cc50e70"
      },
      "outputs": [],
      "source": [
        "train_y"
      ]
    },
    {
      "cell_type": "code",
      "execution_count": 3,
      "id": "b60fc541",
      "metadata": {
        "id": "b60fc541"
      },
      "outputs": [],
      "source": [
        "print(\"Categories:\", np.unique(label))\n",
        "print(\"Number of unique words:\", len(np.unique(np.hstack(data))))"
      ]
    },
    {
      "cell_type": "code",
      "execution_count": 3,
      "id": "3830a089",
      "metadata": {
        "id": "3830a089"
      },
      "outputs": [],
      "source": [
        "length = [len(i) for i in data]\n",
        "print(\"Average Review length:\", np.mean(length))\n",
        "print(\"Standard Deviation:\", round(np.std(length)))"
      ]
    },
    {
      "cell_type": "code",
      "execution_count": 3,
      "id": "67969cf1",
      "metadata": {
        "id": "67969cf1"
      },
      "outputs": [],
      "source": [
        "print(\"Label:\", label[0])"
      ]
    },
    {
      "cell_type": "code",
      "execution_count": 3,
      "id": "040744f3",
      "metadata": {
        "id": "040744f3"
      },
      "outputs": [],
      "source": [
        "print(data[0])"
      ]
    },
    {
      "cell_type": "code",
      "execution_count": 6,
      "id": "26009e52",
      "metadata": {
        "id": "26009e52"
      },
      "outputs": [],
      "source": [
        "index = imdb.get_word_index()\n",
        "reverse_index = dict([(value, key) for (key, value) in index.items()])\n",
        "decoded = \" \".join( [reverse_index.get(i - 3, \"#\") for i in data[0]] )\n",
        "print(decoded)"
      ]
    },
    {
      "cell_type": "code",
      "execution_count": 6,
      "id": "6602975c",
      "metadata": {
        "id": "6602975c"
      },
      "outputs": [],
      "source": [
        "index"
      ]
    },
    {
      "cell_type": "code",
      "execution_count": 6,
      "id": "9aaf090f",
      "metadata": {
        "id": "9aaf090f"
      },
      "outputs": [],
      "source": [
        "reverse_index"
      ]
    },
    {
      "cell_type": "code",
      "execution_count": 6,
      "id": "6db6c397",
      "metadata": {
        "id": "6db6c397"
      },
      "outputs": [],
      "source": [
        "decoded"
      ]
    },
    {
      "cell_type": "code",
      "execution_count": 6,
      "id": "f4f690f1",
      "metadata": {
        "id": "f4f690f1"
      },
      "outputs": [],
      "source": [
        "data = vectorize(data)\n",
        "label = np.array(label).astype(\"float32\")"
      ]
    },
    {
      "cell_type": "code",
      "execution_count": 6,
      "id": "a743b331",
      "metadata": {
        "id": "a743b331"
      },
      "outputs": [],
      "source": [
        "data"
      ]
    },
    {
      "cell_type": "code",
      "execution_count": 6,
      "id": "6eece899",
      "metadata": {
        "id": "6eece899"
      },
      "outputs": [],
      "source": [
        "label"
      ]
    },
    {
      "cell_type": "code",
      "execution_count": 6,
      "id": "64b9e4bf",
      "metadata": {
        "id": "64b9e4bf"
      },
      "outputs": [],
      "source": [
        "import seaborn as sns\n",
        "sns.set(color_codes=True)\n",
        "import matplotlib.pyplot as plt\n",
        "%matplotlib inline"
      ]
    },
    {
      "cell_type": "code",
      "execution_count": 6,
      "id": "5078e848",
      "metadata": {
        "id": "5078e848"
      },
      "outputs": [],
      "source": [
        "labelDF=pd.DataFrame({'label':label})\n",
        "sns.countplot(x='label', data=labelDF)"
      ]
    },
    {
      "cell_type": "code",
      "execution_count": 6,
      "id": "3ba8699d",
      "metadata": {
        "id": "3ba8699d"
      },
      "outputs": [],
      "source": [
        "from sklearn.model_selection import train_test_split\n",
        "X_train, X_test, y_train, y_test = train_test_split(data,label, test_size=0.20, random_state=1)"
      ]
    },
    {
      "cell_type": "code",
      "execution_count": 6,
      "id": "9d285df3",
      "metadata": {
        "id": "9d285df3"
      },
      "outputs": [],
      "source": [
        "X_train.shape"
      ]
    },
    {
      "cell_type": "code",
      "execution_count": 6,
      "id": "e7a03b1a",
      "metadata": {
        "id": "e7a03b1a"
      },
      "outputs": [],
      "source": [
        "X_test.shape"
      ]
    },
    {
      "cell_type": "code",
      "execution_count": 6,
      "id": "e2ab0403",
      "metadata": {
        "id": "e2ab0403"
      },
      "outputs": [],
      "source": [
        "from keras.utils import to_categorical\n",
        "from keras import models\n",
        "from keras import layers"
      ]
    },
    {
      "cell_type": "code",
      "execution_count": 6,
      "id": "b559e6e5",
      "metadata": {
        "id": "b559e6e5"
      },
      "outputs": [],
      "source": [
        "model = models.Sequential()\n",
        "model.add(layers.Dense(50, activation = \"relu\", input_shape=(10000, )))\n",
        "model.add(layers.Dropout(0.3, noise_shape=None, seed=None))\n",
        "model.add(layers.Dense(50, activation = \"relu\"))\n",
        "model.add(layers.Dropout(0.2, noise_shape=None, seed=None))\n",
        "model.add(layers.Dense(50, activation = \"relu\"))\n",
        "model.add(layers.Dense(1, activation = \"sigmoid\"))\n",
        "model.summary()"
      ]
    },
    {
      "cell_type": "code",
      "execution_count": 6,
      "id": "36755c09",
      "metadata": {
        "id": "36755c09"
      },
      "outputs": [],
      "source": [
        "import tensorflow as tf\n",
        "callback = tf.keras.callbacks.EarlyStopping(monitor='loss', patience=3)"
      ]
    },
    {
      "cell_type": "code",
      "execution_count": null,
      "id": "1d8de610",
      "metadata": {
        "id": "1d8de610"
      },
      "outputs": [],
      "source": [
        "model.compile(\n",
        " optimizer = \"adam\",\n",
        " loss = \"binary_crossentropy\",\n",
        " metrics = [\"accuracy\"]\n",
        ")"
      ]
    },
    {
      "cell_type": "code",
      "execution_count": 6,
      "id": "f32b44ba",
      "metadata": {
        "id": "f32b44ba"
      },
      "outputs": [],
      "source": [
        "results = model.fit(\n",
        " X_train, y_train,\n",
        " epochs= 2,\n",
        " batch_size = 500,\n",
        " validation_data = (X_test, y_test),\n",
        " callbacks=[callback]\n",
        ")"
      ]
    },
    {
      "cell_type": "code",
      "execution_count": 6,
      "id": "61957f44",
      "metadata": {
        "id": "61957f44"
      },
      "outputs": [],
      "source": [
        "print(np.mean(results.history[\"val_accuracy\"]))"
      ]
    },
    {
      "cell_type": "code",
      "execution_count": 6,
      "id": "ae197a82",
      "metadata": {
        "id": "ae197a82"
      },
      "outputs": [],
      "source": [
        "print(results.history.keys())\n",
        "plt.plot(results.history['accuracy'])\n",
        "plt.plot(results.history['val_accuracy'])\n",
        "plt.title('model accuracy')\n",
        "plt.ylabel('accuracy')\n",
        "plt.xlabel('epoch')\n",
        "plt.legend(['train', 'test'], loc='upper left')\n",
        "plt.show()\n",
        "plt.plot(results.history['loss'])\n",
        "plt.plot(results.history['val_loss'])\n",
        "plt.title('model loss')\n",
        "plt.ylabel('loss')\n",
        "plt.xlabel('epoch')\n",
        "plt.legend(['train', 'test'], loc='upper left')\n",
        "plt.show()"
      ]
    },
    {
      "cell_type": "code",
      "execution_count": 6,
      "id": "e349c0cf",
      "metadata": {
        "id": "e349c0cf"
      },
      "outputs": [],
      "source": [
        "model.predict(X_test)"
      ]
    },
    {
      "cell_type": "code",
      "execution_count": null,
      "id": "347d6826",
      "metadata": {
        "id": "347d6826"
      },
      "outputs": [],
      "source": []
    }
  ],
  "metadata": {
    "kernelspec": {
      "display_name": "Python 3 (ipykernel)",
      "language": "python",
      "name": "python3"
    },
    "language_info": {
      "codemirror_mode": {
        "name": "ipython",
        "version": 3
      },
      "file_extension": ".py",
      "mimetype": "text/x-python",
      "name": "python",
      "nbconvert_exporter": "python",
      "pygments_lexer": "ipython3",
      "version": "3.10.12"
    },
    "colab": {
      "provenance": []
    }
  },
  "nbformat": 4,
  "nbformat_minor": 5
}